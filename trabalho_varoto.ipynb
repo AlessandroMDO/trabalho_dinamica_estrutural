{
 "cells": [
  {
   "cell_type": "markdown",
   "metadata": {},
   "source": [
    "# <h1><center>AVALAÇÃO #3 DINÂMICA ESTRUTURAL - 2020 </center></h1>"
   ]
  },
  {
   "cell_type": "markdown",
   "metadata": {},
   "source": [
    "#### Nome: Alessadro Melo de Oliveira - 10788662\n",
    "#### Nome: Guilherme Beppu de Souza - 10696681"
   ]
  },
  {
   "cell_type": "code",
   "execution_count": 1178,
   "metadata": {},
   "outputs": [],
   "source": [
    "import numpy as np\n",
    "import matplotlib.pyplot as plt\n",
    "import sympy as sp"
   ]
  },
  {
   "cell_type": "code",
   "execution_count": 1179,
   "metadata": {},
   "outputs": [],
   "source": [
    "rho_al = 2700\n",
    "E_al = 70 * 1e9\n",
    "L_barra = 500*1e-3\n",
    "b_barra = 25.4*1e-3\n",
    "h_barra = 3.175*1e-3\n",
    "I_barra = (b_barra*h_barra**4)/12\n",
    "\n",
    "a_fu = 85*1e-3\n",
    "rho_aco = 7830\n",
    "\n",
    "a_tur = 48*1e-3\n",
    "\n",
    "rho_ny = 1150\n",
    "Eny = 3000*1e6"
   ]
  },
  {
   "cell_type": "markdown",
   "metadata": {},
   "source": [
    "## a)"
   ]
  },
  {
   "cell_type": "code",
   "execution_count": 1180,
   "metadata": {},
   "outputs": [],
   "source": [
    "M = np.array([[0.8659, 0,0], [0, 4.8086, 0], [0,0,0.8659]])\n",
    "K = 113.8133 * np.array([[1, -1,0], [-1, 2, -1], [0,-1,1]])"
   ]
  },
  {
   "cell_type": "markdown",
   "metadata": {},
   "source": [
    "## b)"
   ]
  },
  {
   "cell_type": "code",
   "execution_count": 1181,
   "metadata": {},
   "outputs": [],
   "source": [
    "from scipy import linalg\n",
    "\n",
    "wn_1= np.real(linalg.eig(K,M)[0][0])\n",
    "wn_2= np.real(linalg.eig(K,M)[0][1])\n",
    "wn_3= np.real(linalg.eig(K,M)[0][2])"
   ]
  },
  {
   "cell_type": "code",
   "execution_count": 1182,
   "metadata": {},
   "outputs": [],
   "source": [
    "## Resolvendo pelo polinômio\n",
    "lambda_x = sp.Symbol('lambda')\n",
    "\n",
    "eq = (sp.Matrix(K - lambda_x*M)).det()"
   ]
  },
  {
   "cell_type": "code",
   "execution_count": 1183,
   "metadata": {},
   "outputs": [],
   "source": [
    "# V1 = linalg.eig(K,M)[1][:,0]/max(linalg.eig(K,M)[1][:,0])\n",
    "# V2 = linalg.eig(K,M)[1][:,1]/max(linalg.eig(K,M)[1][:,1])\n",
    "# V3 = linalg.eig(K,M)[1][:,2]/max(linalg.eig(K,M)[1][:,2])\n",
    "\n",
    "V1 = linalg.eig(K,M)[1][:,0]\n",
    "V2 = linalg.eig(K,M)[1][:,1]\n",
    "V3 = linalg.eig(K,M)[1][:,2]"
   ]
  },
  {
   "cell_type": "markdown",
   "metadata": {},
   "source": [
    "## c)"
   ]
  },
  {
   "cell_type": "code",
   "execution_count": 1184,
   "metadata": {},
   "outputs": [
    {
     "name": "stdout",
     "output_type": "stream",
     "text": [
      "Condição de Ortogonalidade para [M]\n",
      "1.6653345369377348e-16\n",
      "2.220446049250313e-16\n",
      "1.6653345369377348e-16\n",
      "-5.551115123125783e-17\n",
      "3.3306690738754696e-16\n",
      "0.0\n",
      "Condição de Ortogonalidade para [k]\n",
      "-1.2197434323822188e-14\n",
      "7.299589974503889e-14\n",
      "0.0\n",
      "-7.105427357601002e-15\n",
      "7.815970093361102e-14\n",
      "0.0\n"
     ]
    }
   ],
   "source": [
    "auto_vec = [V1,V2,V3]\n",
    "\n",
    "print(\"Condição de Ortogonalidade para [M]\")\n",
    "for i in auto_vec:\n",
    "    for j in V1,V2,V3:\n",
    "        if i.sum() != j.sum():\n",
    "            orto_M = np.matmul(np.matmul(i,M),j)\n",
    "            print(orto_M)\n",
    "            \n",
    "print(\"Condição de Ortogonalidade para [k]\")\n",
    "for i in auto_vec:\n",
    "    for j in V1,V2,V3:\n",
    "        if i.sum() != j.sum():\n",
    "            orto_K = np.matmul(np.matmul(i,K),j)\n",
    "            print(orto_K)"
   ]
  },
  {
   "cell_type": "markdown",
   "metadata": {},
   "source": [
    "## d)"
   ]
  },
  {
   "cell_type": "code",
   "execution_count": 1185,
   "metadata": {},
   "outputs": [],
   "source": [
    "#Constantes elásticas dos fios para cada comprimento\n",
    "k_fio_1 = 188.496\n",
    "k_fio_2 = 117.994\n",
    "k_fio_3 = 376.991\n",
    "k_fio_4 = 753.820\n",
    "\n",
    "#Matriz de rigidez para cada fio\n",
    "k = 113.8133\n",
    "K_1= np.array([[k + k_fio_1,-k,0],[-k,k+k,-k],[0,-k,k+k_fio_1]])\n",
    "K_2= np.array([[k + k_fio_2,-k,0],[-k,k+k,-k],[0,-k,k+k_fio_2]])\n",
    "K_3= np.array([[k + k_fio_3,-k,0],[-k,k+k,-k],[0,-k,k+k_fio_3]])\n",
    "K_4= np.array([[k + k_fio_4,-k,0],[-k,k+k,-k],[0,-k,k+k_fio_4]])"
   ]
  },
  {
   "cell_type": "code",
   "execution_count": 1186,
   "metadata": {},
   "outputs": [],
   "source": [
    "#Autovalores\n",
    "\n",
    "#Para k_fio_1\n",
    "lambda_1_1= np.real(linalg.eig(K_1,M)[0][0])\n",
    "lambda_2_1= np.real(linalg.eig(K_1,M)[0][1])\n",
    "lambda_3_1= np.real(linalg.eig(K_1,M)[0][2])\n",
    "\n",
    "#Para k_fio_2\n",
    "lambda_1_2= np.real(linalg.eig(K_2,M)[0][0])\n",
    "lambda_2_2= np.real(linalg.eig(K_2,M)[0][1])\n",
    "lambda_3_2= np.real(linalg.eig(K_2,M)[0][2])\n",
    "\n",
    "\n",
    "#Para k_fio_3\n",
    "lambda_1_3= np.real(linalg.eig(K_3,M)[0][0])\n",
    "lambda_2_3= np.real(linalg.eig(K_3,M)[0][1])\n",
    "lambda_3_3= np.real(linalg.eig(K_3,M)[0][2])\n",
    "\n",
    "\n",
    "#Para k_fio_4\n",
    "lambda_1_4= np.real(linalg.eig(K_4,M)[0][0])\n",
    "lambda_2_4= np.real(linalg.eig(K_4,M)[0][1])\n",
    "lambda_3_4= np.real(linalg.eig(K_4,M)[0][2])"
   ]
  },
  {
   "cell_type": "code",
   "execution_count": 1187,
   "metadata": {},
   "outputs": [],
   "source": [
    "#Frequências naturais\n",
    "\n",
    "#Para k_fio_1\n",
    "wn_1_1 = np.sqrt(lambda_1_1)\n",
    "wn_2_1 = np.sqrt(lambda_2_1)\n",
    "wn_3_1 = np.sqrt(lambda_3_1)\n",
    "\n",
    "#Para k_fio_2\n",
    "wn_1_2 = np.sqrt(lambda_1_2)\n",
    "wn_2_2 = np.sqrt(lambda_2_2)\n",
    "wn_3_2 = np.sqrt(lambda_3_2)\n",
    "\n",
    "#Para k_fio_3\n",
    "wn_1_3 = np.sqrt(lambda_1_3)\n",
    "wn_2_3 = np.sqrt(lambda_2_3)\n",
    "wn_3_3 = np.sqrt(lambda_3_3)\n",
    "\n",
    "#Para k_fio_4\n",
    "wn_1_4 = np.sqrt(lambda_1_4)\n",
    "wn_2_4 = np.sqrt(lambda_2_4)\n",
    "wn_3_4 = np.sqrt(lambda_3_4)"
   ]
  },
  {
   "cell_type": "code",
   "execution_count": 1188,
   "metadata": {},
   "outputs": [
    {
     "data": {
      "image/png": "[encoded data removed]",
      "text/plain": [
       "<Figure size 720x360 with 3 Axes>"
      ]
     },
     "metadata": {
      "needs_background": "light"
     },
     "output_type": "display_data"
    }
   ],
   "source": [
    "fig_frequencias = plt.figure(figsize=(10,5))\n",
    "\n",
    "fig_auto_1 = fig_frequencias.add_subplot(131)\n",
    "plt.scatter(wn_1_1, wn_1_1, color = 'k', label = \"K_fio = 188.495\")\n",
    "plt.scatter(wn_1_2, wn_1_2, color = 'b', label = \"K_fio = 251.327\")\n",
    "plt.scatter(wn_1_3, wn_1_3, color = 'g', label = \"K_fio = 376.991\")\n",
    "plt.scatter(wn_1_4, wn_1_4, color = 'r', label = \"K_fio = 753.982\")\n",
    "plt.grid()\n",
    "plt.legend()\n",
    "plt.title(\"${w_n}_1$\")\n",
    "plt.ylabel(\"[rad/s]\",fontsize=12)\n",
    "\n",
    "\n",
    "fig_auto_2 = fig_frequencias.add_subplot(132)\n",
    "plt.scatter(wn_2_1, wn_2_1, color = 'k')\n",
    "plt.scatter(wn_2_2, wn_2_2, color = 'b')\n",
    "plt.scatter(wn_2_3, wn_2_3, color = 'g')\n",
    "plt.scatter(wn_2_4, wn_2_4, color = 'r')\n",
    "plt.grid()\n",
    "plt.title(\"${w_n}_2$\")\n",
    "plt.ylabel(\"[rad/s]\", fontsize=12)\n",
    "\n",
    "fig_auto_3 = fig_frequencias.add_subplot(133)\n",
    "plt.scatter(wn_3_1, wn_3_1, color = 'k')\n",
    "plt.scatter(wn_3_2, wn_3_2, color = 'b')\n",
    "plt.scatter(wn_3_3, wn_3_3, color = 'g')\n",
    "plt.scatter(wn_3_4, wn_3_4, color = 'r')\n",
    "plt.grid()\n",
    "plt.title(\"${w_n}_3$\")\n",
    "plt.ylabel(\"[rad/s]\", fontsize=12)\n",
    "\n",
    "\n",
    "plt.tight_layout()\n",
    "#plt.savefig(\"frequencias_naturais_nao_amortecidas.eps\")\n",
    "plt.show()"
   ]
  },
  {
   "cell_type": "code",
   "execution_count": 1189,
   "metadata": {},
   "outputs": [],
   "source": [
    "#Autovetores\n",
    "#Para k_fio_1\n",
    "V1_1 = linalg.eig(K_1,M)[1][:,0]\n",
    "V2_1 = linalg.eig(K_1,M)[1][:,1]\n",
    "V3_1 = linalg.eig(K_1,M)[1][:,2]\n",
    "\n",
    "#Para k_fio_2\n",
    "V1_2 = linalg.eig(K_2,M)[1][:,0]\n",
    "V2_2 = linalg.eig(K_2,M)[1][:,1]\n",
    "V3_2 = linalg.eig(K_2,M)[1][:,2]\n",
    "\n",
    "#Para k_fio_3\n",
    "V1_3 = linalg.eig(K_3,M)[1][:,0]\n",
    "V2_3 = linalg.eig(K_3,M)[1][:,1]\n",
    "V3_3 = linalg.eig(K_3,M)[1][:,2]\n",
    "\n",
    "#Para k_fio_4\n",
    "V1_4 = linalg.eig(K_4,M)[1][:,0]\n",
    "V2_4 = linalg.eig(K_4,M)[1][:,1]\n",
    "V3_4 = linalg.eig(K_4,M)[1][:,2]"
   ]
  },
  {
   "cell_type": "markdown",
   "metadata": {},
   "source": [
    "## e)"
   ]
  },
  {
   "cell_type": "code",
   "execution_count": 1190,
   "metadata": {},
   "outputs": [],
   "source": [
    "alpha, beta = sp.symbols('alpha beta')\n",
    "C = alpha*M + beta*K_3"
   ]
  },
  {
   "cell_type": "code",
   "execution_count": 1191,
   "metadata": {},
   "outputs": [
    {
     "data": {
      "text/latex": [
       "$\\displaystyle 22432.8145954821 \\lambda + 240888.86089849 \\left(1 - 0.00176424697175636 \\lambda\\right)^{2} \\left(227.6266 - 4.8086 \\lambda\\right) - 12715234.8591816$"
      ],
      "text/plain": [
       "22432.8145954821*lambda + (240888.86089849*(1 - 0.00176424697175636*lambda)**2)*(227.6266 - 4.8086*lambda) - 12715234.8591816"
      ]
     },
     "execution_count": 1191,
     "metadata": {},
     "output_type": "execute_result"
    }
   ],
   "source": [
    "#Pelo método polinômio\n",
    "eq = sp.Matrix(K_3 - lambda_x*M)\n",
    "eq.det()"
   ]
  },
  {
   "cell_type": "code",
   "execution_count": 1192,
   "metadata": {},
   "outputs": [],
   "source": [
    "#Autovalores\n",
    "lambda_1= np.real(linalg.eig(K_3,M)[0][0])\n",
    "lambda_2= np.real(linalg.eig(K_3,M)[0][1])\n",
    "lambda_3= np.real(linalg.eig(K_3,M)[0][2])"
   ]
  },
  {
   "cell_type": "code",
   "execution_count": 1193,
   "metadata": {},
   "outputs": [],
   "source": [
    "#Frequencias naturais\n",
    "wn_1 = np.sqrt(lambda_1)\n",
    "wn_2 = np.sqrt(lambda_2)\n",
    "wn_3 = np.sqrt(lambda_3)"
   ]
  },
  {
   "cell_type": "code",
   "execution_count": 1194,
   "metadata": {},
   "outputs": [],
   "source": [
    "#Autovetores\n",
    "V1 = linalg.eig(K_3,M)[1][:,0]\n",
    "V2 = linalg.eig(K_3,M)[1][:,1]\n",
    "V3 = linalg.eig(K_3,M)[1][:,2]"
   ]
  },
  {
   "cell_type": "code",
   "execution_count": 1195,
   "metadata": {},
   "outputs": [],
   "source": [
    "#Matriz com os modos de vibrar\n",
    "U = sp.zeros(3,3)\n",
    "U[:,0] = V1\n",
    "U[:,1] = V2\n",
    "U[:,2] = V3\n",
    "U[1,1] = 0"
   ]
  },
  {
   "cell_type": "code",
   "execution_count": 1196,
   "metadata": {},
   "outputs": [],
   "source": [
    "#Matrizes diagonalizadas\n",
    "\n",
    "m = sp.Matrix(np.matmul(np.matmul((U.T),M),U))\n",
    "for i in range(3):\n",
    "    for j in range(3):\n",
    "        if i==j:\n",
    "            m[i,j]=m[i,j]\n",
    "        else:\n",
    "            m[i,j]=0\n",
    "            \n",
    "k = sp.Matrix(np.matmul(np.matmul((U.T),K_3),U))\n",
    "for i in range(3):\n",
    "    for j in range(3):\n",
    "        if i==j:\n",
    "            k[i,j]=k[i,j]\n",
    "        else:\n",
    "            k[i,j]=0\n",
    "\n",
    "c = sp.Matrix(np.matmul(np.matmul((U.T),C),U))\n",
    "for i in range(3):\n",
    "    for j in range(3):\n",
    "        if i==j:\n",
    "            c[i,j]=c[i,j]\n",
    "        else:\n",
    "            c[i,j]=0\n"
   ]
  },
  {
   "cell_type": "code",
   "execution_count": 1197,
   "metadata": {},
   "outputs": [
    {
     "data": {
      "text/latex": [
       "$\\displaystyle \\left[\\begin{matrix}4.3785 & 0 & 0\\\\0 & 0.8659 & 0\\\\0 & 0 & 0.88149\\end{matrix}\\right]$"
      ],
      "text/plain": [
       "Matrix([\n",
       "[4.3785,      0,       0],\n",
       "[     0, 0.8659,       0],\n",
       "[     0,      0, 0.88149]])"
      ]
     },
     "execution_count": 1197,
     "metadata": {},
     "output_type": "execute_result"
    }
   ],
   "source": [
    "#Matriz [M] diagonalizada\n",
    "m.evalf(5)"
   ]
  },
  {
   "cell_type": "code",
   "execution_count": 1198,
   "metadata": {},
   "outputs": [
    {
     "data": {
      "text/latex": [
       "$\\displaystyle \\left[\\begin{matrix}4.3785 & 0 & 0\\\\0 & 0.8659 & 0\\\\0 & 0 & 0.88149\\end{matrix}\\right]$"
      ],
      "text/plain": [
       "Matrix([\n",
       "[4.3785,      0,       0],\n",
       "[     0, 0.8659,       0],\n",
       "[     0,      0, 0.88149]])"
      ]
     },
     "execution_count": 1198,
     "metadata": {},
     "output_type": "execute_result"
    }
   ],
   "source": [
    "#Matriz [K] diagonalizada\n",
    "m.evalf(5)"
   ]
  },
  {
   "cell_type": "code",
   "execution_count": 1199,
   "metadata": {},
   "outputs": [
    {
     "data": {
      "text/latex": [
       "$\\displaystyle \\left[\\begin{matrix}8.0179 & 0 & 0\\\\0 & 24.583 & 0\\\\0 & 0 & 25.542\\end{matrix}\\right]$"
      ],
      "text/plain": [
       "Matrix([\n",
       "[8.0179,      0,      0],\n",
       "[     0, 24.583,      0],\n",
       "[     0,      0, 25.542]])"
      ]
     },
     "execution_count": 1199,
     "metadata": {},
     "output_type": "execute_result"
    }
   ],
   "source": [
    "#Matriz [C] diagonalizada\n",
    "c.subs({alpha:0.05, beta:0.05}).evalf(5)"
   ]
  },
  {
   "cell_type": "code",
   "execution_count": 1200,
   "metadata": {},
   "outputs": [],
   "source": [
    "zeta_1 = (alpha + beta*wn_1**2)/(2*wn_1)\n",
    "zeta_2 = (alpha + beta*wn_2**2)/(2*wn_2)\n",
    "zeta_3 = (alpha + beta*wn_3**2)/(2*wn_3)"
   ]
  },
  {
   "cell_type": "code",
   "execution_count": 1201,
   "metadata": {},
   "outputs": [],
   "source": [
    "alphas = np.linspace(0,0.1,100)\n",
    "betas = np.linspace(0,0.1,100)\n",
    "\n",
    "zetas_1= [zeta_1.subs({alpha:i, beta:j}) for i,j in zip(alphas,betas)]\n",
    "zetas_2= [zeta_2.subs({alpha:i, beta:j}) for i,j in zip(alphas,betas)]\n",
    "zetas_3= [zeta_3.subs({alpha:i, beta:j}) for i,j in zip(alphas,betas)]"
   ]
  },
  {
   "cell_type": "code",
   "execution_count": 1202,
   "metadata": {},
   "outputs": [
    {
     "data": {
      "text/plain": [
       "<matplotlib.lines.Line2D at 0x13098869208>"
      ]
     },
     "execution_count": 1202,
     "metadata": {},
     "output_type": "execute_result"
    },
    {
     "data": {
      "image/png": "[encoded data removed]",
      "text/plain": [
       "<Figure size 432x288 with 1 Axes>"
      ]
     },
     "metadata": {
      "needs_background": "light"
     },
     "output_type": "display_data"
    }
   ],
   "source": [
    "fig = plt.figure()\n",
    "plt.plot(alphas,zetas_1, label = \"$\\zeta_1$\")\n",
    "plt.plot(alphas,zetas_2, label = \"$\\zeta_2$\")\n",
    "plt.plot(alphas,zetas_3, label = \"$\\zeta_3$\")\n",
    "plt.grid()\n",
    "plt.xlabel(\"$\\\\alpha, \\\\beta$\", fontsize=12)\n",
    "plt.ylabel(\"$\\zeta$\", fontsize=12)\n",
    "plt.legend(fontsize=12)\n",
    "plt.axhline(1, ls = '--', color = 'k')\n",
    "plt.axvline(0.082, ls = '--', color = 'k')\n",
    "#plt.savefig(\"zetas.eps\")"
   ]
  },
  {
   "cell_type": "markdown",
   "metadata": {},
   "source": [
    "## f)"
   ]
  },
  {
   "cell_type": "code",
   "execution_count": 1203,
   "metadata": {},
   "outputs": [],
   "source": [
    "from sympy.functions import exp\n",
    "\n",
    "f0, w, i ,t = sp.symbols('f_0 omega i t')\n",
    "\n",
    "from sympy.physics.vector import dynamicsymbols\n",
    "n1,n2,n3 = dynamicsymbols('eta_1 eta_2 eta_3')"
   ]
  },
  {
   "cell_type": "code",
   "execution_count": 1204,
   "metadata": {},
   "outputs": [],
   "source": [
    "c = sp.Matrix(c).subs({alpha:0.05, beta:0.05})\n",
    "m = sp.Matrix(m)\n",
    "k = sp.Matrix(k)\n",
    "\n",
    "F = sp.Matrix([f0 * exp(w*i*t),0,0])\n",
    "N = sp.Matrix(np.matmul(U.T, F))"
   ]
  },
  {
   "cell_type": "code",
   "execution_count": 1205,
   "metadata": {},
   "outputs": [],
   "source": [
    "#Equações de movimento desacopladas\n",
    "eq1 = m[0,0]*n1.diff(t,2) + c[0,0]*n1.diff(t,1) + k[0,0]*n1 - N[0]\n",
    "eq2 = m[1,1]*n2.diff(t,2) + c[1,1]*n2.diff(t,1) + k[1,1]*n2 - N[1]\n",
    "eq3 = m[2,2]*n3.diff(t,2) + c[2,2]*n3.diff(t,1) + k[2,2]*n3 - N[2]\n",
    "\n",
    "#Equações de movimento desacopladas e normalizadas\n",
    "\n",
    "eq1_n = (m[0,0]*n1.diff(t,2) + c[0,0]*n1.diff(t,1) + k[0,0]*n1 - N[0])/m[0,0]\n",
    "eq2_n = (m[1,1]*n2.diff(t,2) + c[1,1]*n2.diff(t,1) + k[1,1]*n2 - N[1])/m[1,1]\n",
    "eq3_n = (m[2,2]*n3.diff(t,2) + c[2,2]*n3.diff(t,1) + k[2,2]*n3 - N[2])/m[2,2]"
   ]
  },
  {
   "cell_type": "code",
   "execution_count": 1206,
   "metadata": {},
   "outputs": [],
   "source": [
    "zeta1 = zeta_1.subs({alpha:0.05, beta:0.05})\n",
    "zeta2 = zeta_2.subs({alpha:0.05, beta:0.05})\n",
    "zeta3 = zeta_3.subs({alpha:0.05, beta:0.05})"
   ]
  },
  {
   "cell_type": "code",
   "execution_count": 1207,
   "metadata": {},
   "outputs": [],
   "source": [
    "w = sp.Symbol('omega')"
   ]
  },
  {
   "cell_type": "code",
   "execution_count": 1208,
   "metadata": {},
   "outputs": [],
   "source": [
    "H = (((U[:,0]*U[:,0].T)/(M[0,0] * (wn_1**2 - w**2 + 1j*2*zeta1*wn_1*w)))+\n",
    "    ((U[:,1]*U[:,1].T)/(M[1,1] * (wn_2**2 - w**2 + 1j*2*zeta2*wn_2*w)))+\n",
    "    ((U[:,2]*U[:,2].T)/(M[2,2] * (wn_3**2 - w**2 + 1j*2*zeta3*wn_3*w))))"
   ]
  },
  {
   "cell_type": "code",
   "execution_count": 1209,
   "metadata": {},
   "outputs": [
    {
     "data": {
      "text/latex": [
       "$\\displaystyle \\left[\\begin{matrix}\\frac{0.498022448114933}{- 0.8659 \\omega^{2} + 25.0906378974602 i \\omega + 500.946857949203} + \\frac{0.0545483216380631}{- 0.8659 \\omega^{2} + 1.58563964070064 i \\omega + 30.8468928140127} + \\frac{0.500000000000004}{- 4.8086 \\omega^{2} + 136.519535957963 i \\omega + 2725.58211915926} & - \\frac{0.0443816455546916}{- 0.8659 \\omega^{2} + 25.0906378974602 i \\omega + 500.946857949203} + \\frac{0.220447914145278}{- 0.8659 \\omega^{2} + 1.58563964070064 i \\omega + 30.8468928140127} & \\frac{0.498022448114942}{- 0.8659 \\omega^{2} + 25.0906378974602 i \\omega + 500.946857949203} + \\frac{0.0545483216380631}{- 0.8659 \\omega^{2} + 1.58563964070064 i \\omega + 30.8468928140127} - \\frac{0.5}{- 4.8086 \\omega^{2} + 136.519535957963 i \\omega + 2725.58211915926}\\\\- \\frac{0.0443816455546916}{- 0.8659 \\omega^{2} + 25.0906378974602 i \\omega + 500.946857949203} + \\frac{0.220447914145278}{- 0.8659 \\omega^{2} + 1.58563964070064 i \\omega + 30.8468928140127} & \\frac{0.00395510377011702}{- 0.8659 \\omega^{2} + 25.0906378974602 i \\omega + 500.946857949203} + \\frac{0.890903356723874}{- 0.8659 \\omega^{2} + 1.58563964070064 i \\omega + 30.8468928140127} & - \\frac{0.0443816455546924}{- 0.8659 \\omega^{2} + 25.0906378974602 i \\omega + 500.946857949203} + \\frac{0.220447914145278}{- 0.8659 \\omega^{2} + 1.58563964070064 i \\omega + 30.8468928140127}\\\\\\frac{0.498022448114942}{- 0.8659 \\omega^{2} + 25.0906378974602 i \\omega + 500.946857949203} + \\frac{0.0545483216380631}{- 0.8659 \\omega^{2} + 1.58563964070064 i \\omega + 30.8468928140127} - \\frac{0.5}{- 4.8086 \\omega^{2} + 136.519535957963 i \\omega + 2725.58211915926} & - \\frac{0.0443816455546924}{- 0.8659 \\omega^{2} + 25.0906378974602 i \\omega + 500.946857949203} + \\frac{0.220447914145278}{- 0.8659 \\omega^{2} + 1.58563964070064 i \\omega + 30.8468928140127} & \\frac{0.49802244811495}{- 0.8659 \\omega^{2} + 25.0906378974602 i \\omega + 500.946857949203} + \\frac{0.0545483216380631}{- 0.8659 \\omega^{2} + 1.58563964070064 i \\omega + 30.8468928140127} + \\frac{0.499999999999996}{- 4.8086 \\omega^{2} + 136.519535957963 i \\omega + 2725.58211915926}\\end{matrix}\\right]$"
      ],
      "text/plain": [
       "Matrix([\n",
       "[0.498022448114933/(-0.8659*omega**2 + 25.0906378974602*I*omega + 500.946857949203) + 0.0545483216380631/(-0.8659*omega**2 + 1.58563964070064*I*omega + 30.8468928140127) + 0.500000000000004/(-4.8086*omega**2 + 136.519535957963*I*omega + 2725.58211915926), -0.0443816455546916/(-0.8659*omega**2 + 25.0906378974602*I*omega + 500.946857949203) + 0.220447914145278/(-0.8659*omega**2 + 1.58563964070064*I*omega + 30.8468928140127),              0.498022448114942/(-0.8659*omega**2 + 25.0906378974602*I*omega + 500.946857949203) + 0.0545483216380631/(-0.8659*omega**2 + 1.58563964070064*I*omega + 30.8468928140127) - 0.5/(-4.8086*omega**2 + 136.519535957963*I*omega + 2725.58211915926)],\n",
       "[                                                                                    -0.0443816455546916/(-0.8659*omega**2 + 25.0906378974602*I*omega + 500.946857949203) + 0.220447914145278/(-0.8659*omega**2 + 1.58563964070064*I*omega + 30.8468928140127), 0.00395510377011702/(-0.8659*omega**2 + 25.0906378974602*I*omega + 500.946857949203) + 0.890903356723874/(-0.8659*omega**2 + 1.58563964070064*I*omega + 30.8468928140127),                                                                                    -0.0443816455546924/(-0.8659*omega**2 + 25.0906378974602*I*omega + 500.946857949203) + 0.220447914145278/(-0.8659*omega**2 + 1.58563964070064*I*omega + 30.8468928140127)],\n",
       "[              0.498022448114942/(-0.8659*omega**2 + 25.0906378974602*I*omega + 500.946857949203) + 0.0545483216380631/(-0.8659*omega**2 + 1.58563964070064*I*omega + 30.8468928140127) - 0.5/(-4.8086*omega**2 + 136.519535957963*I*omega + 2725.58211915926), -0.0443816455546924/(-0.8659*omega**2 + 25.0906378974602*I*omega + 500.946857949203) + 0.220447914145278/(-0.8659*omega**2 + 1.58563964070064*I*omega + 30.8468928140127), 0.49802244811495/(-0.8659*omega**2 + 25.0906378974602*I*omega + 500.946857949203) + 0.0545483216380631/(-0.8659*omega**2 + 1.58563964070064*I*omega + 30.8468928140127) + 0.499999999999996/(-4.8086*omega**2 + 136.519535957963*I*omega + 2725.58211915926)]])"
      ]
     },
     "execution_count": 1209,
     "metadata": {},
     "output_type": "execute_result"
    }
   ],
   "source": [
    "H"
   ]
  },
  {
   "cell_type": "markdown",
   "metadata": {},
   "source": [
    "## g)"
   ]
  },
  {
   "cell_type": "code",
   "execution_count": 1210,
   "metadata": {},
   "outputs": [],
   "source": [
    "#Código para imprimir comandos para plotar a matriz F no MATLAB\n",
    "def pega_elemento(X):\n",
    "    \n",
    "    print(\"syms w\")\n",
    "    print(\"\")\n",
    "    \n",
    "    for i in np.arange(0,3):\n",
    "        for j in np.arange(0,3):\n",
    "            \n",
    "            name = \"H{}{}\".format(i,j)\n",
    "            \n",
    "            retorna = str(X[i,j])\n",
    "            retorna = retorna.replace('I', '1i')\n",
    "            retorna = retorna.replace('omega', 'w')\n",
    "            retorna = retorna.replace('**', '^')\n",
    "            print(\"%% {}\".format(name))\n",
    "            print(name + \"=\" +retorna+\";\")\n",
    "            \n",
    "            separados = str(X[i,j]).split(\")\")[0:-1]\n",
    "            separados = [item.replace('I', '1i') for item in separados]\n",
    "            separados = [item.replace('omega', 'w') for item in separados]\n",
    "            separados = [item.replace('**', '^') for item in separados]\n",
    "            \n",
    "            print(\"xx = 2*3.1415*linspace(0,20,1000);\")  \n",
    "            print(\"\")\n",
    "            print(\"figure()\")\n",
    "            print(\"subplot(2,1,1)\")\n",
    "            print(\"hold on\")\n",
    "            print(\"plot(xx, abs(subs({},w,xx)), 'k', 'LineWidth',1.5)\".format(name))\n",
    "            \n",
    "            for r in separados:\n",
    "                print(\"plot(xx, abs(subs({}),w,xx)), '--')\".format(r))\n",
    "                \n",
    "            print(\"xlabel('Frequência [Hertz]')\")\n",
    "            print(\"ylabel('Magnitude [m/N]')\")\n",
    "            print(\"set(gca, 'YScale', 'log')\")\n",
    "            print(\"xlim([0 120])\")\n",
    "            print(\"title('Magnitude [{}]')\".format(name))\n",
    "            print(\"grid on\")\n",
    "\n",
    "            print(\"\")\n",
    "            print(\"subplot(2,1,2)\")\n",
    "            print(\"hold on\")\n",
    "            print(\"plot(xx, 180/pi * angle(subs({},w,xx)), 'k', 'LineWidth',1.5)\".format(name))\n",
    "            \n",
    "            for r in separados:\n",
    "                print(\"plot(xx, 180/pi * angle(subs({}),w,xx)),'--')\".format(r))\n",
    "            \n",
    "            \n",
    "            print(\"xlabel('Frequência [Hertz]')\")\n",
    "            print(\"ylabel('Fase [º]')\")\n",
    "            print(\"title('Fase [{}]')\".format(name))\n",
    "            print(\"xlim([0 120])\")\n",
    "            print(\"grid on\")\n",
    "            \n",
    "            print(\"ax = gca;\")\n",
    "            print(\"outerpos = ax.OuterPosition;\")\n",
    "            print(\"ti = ax.TightInset; \")\n",
    "            print(\"left = outerpos(1) + ti(1);\")\n",
    "            print(\"bottom = outerpos(2) + ti(2);\")\n",
    "            print(\"ax_width = outerpos(3) - ti(1) - ti(3);\")\n",
    "            print(\"ax_height = outerpos(4) - ti(2) - ti(4);\")\n",
    "            print(\"ax.Position = [left bottom ax_width ax_height];\")\n",
    "            print(\"fig = gcf;\")\n",
    "            print(\"fig.PaperPositionMode = 'auto'\")\n",
    "            print(\"fig_pos = fig.PaperPosition;\")\n",
    "            print(\"fig.PaperSize = [fig_pos(3) fig_pos(4)];\")\n",
    "            print(\"\")\n",
    "            print(\"print(fig,'{}','-dpdf')\".format(name))\n",
    "            print(\"\")\n",
    "#pega_elemento(H)"
   ]
  }
 ],
 "metadata": {
  "kernelspec": {
   "display_name": "Python 3",
   "language": "python",
   "name": "python3"
  },
  "language_info": {
   "codemirror_mode": {
    "name": "ipython",
    "version": 3
   },
   "file_extension": ".py",
   "mimetype": "text/x-python",
   "name": "python",
   "nbconvert_exporter": "python",
   "pygments_lexer": "ipython3",
   "version": "3.7.6"
  }
 },
 "nbformat": 4,
 "nbformat_minor": 4
}
